{
 "cells": [
  {
   "cell_type": "markdown",
   "id": "4e54b2fe",
   "metadata": {},
   "source": [
    "# BDAT 1004 Problem Set 2 - 200496961 - Rama Krishna Adireddy"
   ]
  },
  {
   "cell_type": "markdown",
   "id": "eedda425",
   "metadata": {},
   "source": [
    "# Problem 1"
   ]
  },
  {
   "cell_type": "code",
   "execution_count": 12,
   "id": "78873c39",
   "metadata": {},
   "outputs": [],
   "source": [
    "a = 0\n",
    "def b():\n",
    "    global a\n",
    "    #print(a)\n",
    "    a = c(a)\n",
    "    print(a)\n",
    "\n",
    "def c(a):\n",
    "    return a+2"
   ]
  },
  {
   "cell_type": "code",
   "execution_count": null,
   "id": "48714c8a",
   "metadata": {},
   "outputs": [],
   "source": [
    "#Here a is a global variable, Global variable can be used in any number of functions"
   ]
  },
  {
   "cell_type": "code",
   "execution_count": 13,
   "id": "dba0be73",
   "metadata": {},
   "outputs": [
    {
     "name": "stdout",
     "output_type": "stream",
     "text": [
      "2\n"
     ]
    }
   ],
   "source": [
    "b() "
   ]
  },
  {
   "cell_type": "code",
   "execution_count": null,
   "id": "ef4c1126",
   "metadata": {},
   "outputs": [],
   "source": [
    "# in this global is defined and its calling c function where global value a is getting incremented by 2.\n",
    "# as the global value of a = 0, then it will be 2"
   ]
  },
  {
   "cell_type": "code",
   "execution_count": 14,
   "id": "91b5cba6",
   "metadata": {},
   "outputs": [
    {
     "name": "stdout",
     "output_type": "stream",
     "text": [
      "4\n"
     ]
    }
   ],
   "source": [
    "b()"
   ]
  },
  {
   "cell_type": "code",
   "execution_count": null,
   "id": "5fa6d572",
   "metadata": {},
   "outputs": [],
   "source": [
    "# as the global value of a = 2, then it will be incremented by 2, so a = 4"
   ]
  },
  {
   "cell_type": "code",
   "execution_count": 15,
   "id": "46ee425f",
   "metadata": {},
   "outputs": [
    {
     "name": "stdout",
     "output_type": "stream",
     "text": [
      "6\n"
     ]
    }
   ],
   "source": [
    "b()"
   ]
  },
  {
   "cell_type": "code",
   "execution_count": null,
   "id": "c64fed32",
   "metadata": {},
   "outputs": [],
   "source": [
    "# as the global value of a = 4, then it will be incremented by 2, so a = 6"
   ]
  },
  {
   "cell_type": "code",
   "execution_count": 16,
   "id": "5e2efa69",
   "metadata": {},
   "outputs": [
    {
     "data": {
      "text/plain": [
       "6"
      ]
     },
     "execution_count": 16,
     "metadata": {},
     "output_type": "execute_result"
    }
   ],
   "source": [
    "a"
   ]
  },
  {
   "cell_type": "code",
   "execution_count": null,
   "id": "e33f6454",
   "metadata": {},
   "outputs": [],
   "source": [
    "# as a values is already 6, it prints the a value"
   ]
  },
  {
   "cell_type": "markdown",
   "id": "706fa3b4",
   "metadata": {},
   "source": [
    "# Problem 2"
   ]
  },
  {
   "cell_type": "code",
   "execution_count": 22,
   "id": "d6636f03",
   "metadata": {},
   "outputs": [
    {
     "name": "stdout",
     "output_type": "stream",
     "text": [
      "254\n"
     ]
    }
   ],
   "source": [
    "file_length(\"C:\\\\Users\\\\ramki\\\\Desktop\\\\midterm.py\")\n",
    "\n",
    "#midterm.py file\n",
    "#def file_length(file_name):\n",
    "#    try:\n",
    "#        file = open(file_name)\n",
    "#        contents = file.read()\n",
    "#        file.close()\n",
    "#        print(len(contents))\n",
    "#    except OSError:\n",
    "#        print(\"File is not found\")"
   ]
  },
  {
   "cell_type": "code",
   "execution_count": 23,
   "id": "9ffec54d",
   "metadata": {},
   "outputs": [
    {
     "name": "stdout",
     "output_type": "stream",
     "text": [
      "File is not found\n"
     ]
    }
   ],
   "source": [
    "file_length(\"C:\\\\Users\\\\ramki\\\\Desktop\\\\midtem.py\")"
   ]
  },
  {
   "cell_type": "markdown",
   "id": "27788f14",
   "metadata": {},
   "source": [
    "# Problem 3"
   ]
  },
  {
   "cell_type": "code",
   "execution_count": 24,
   "id": "78cd8d96",
   "metadata": {},
   "outputs": [],
   "source": [
    "class Marsupial:\n",
    "    \n",
    "    def __init__(self):\n",
    "        self.lt = []\n",
    "    \n",
    "    def put_in_pouch(self, item):\n",
    "        return self.lt.append(item)\n",
    "    \n",
    "    def pouch_contents(self):\n",
    "        print(self.lt)\n",
    "        \n",
    "    \n",
    "    \n",
    "class Kangaroo(Marsupial):\n",
    "    \n",
    "    def __init__(self, xcoord = 0, ycoord = 0):\n",
    "        self.x = xcoord\n",
    "        self.y = ycoord\n",
    "    def setx(self, xcoord):\n",
    "        self.x = xcoord\n",
    "    def sety(self, ycoord):\n",
    "        self.y = ycoord\n",
    "    def get(self):\n",
    "        return (self.x, self.y)\n",
    "    def move(self, dx, dy):\n",
    "        self.x += dx\n",
    "        self.y += dy\n",
    "    def __str__(self):\n",
    "        return 'I am Kangaroo located at ({}, {})'.format(self.x, self.y)\n",
    "        "
   ]
  },
  {
   "cell_type": "code",
   "execution_count": 25,
   "id": "4401b9af",
   "metadata": {},
   "outputs": [
    {
     "name": "stdout",
     "output_type": "stream",
     "text": [
      "['apple', 'banana', 'truck']\n"
     ]
    }
   ],
   "source": [
    "m = Marsupial()\n",
    "m.put_in_pouch('apple')\n",
    "m.put_in_pouch('banana')\n",
    "m.put_in_pouch('truck')\n",
    "m.pouch_contents()"
   ]
  },
  {
   "cell_type": "code",
   "execution_count": 26,
   "id": "4bb6d39f",
   "metadata": {},
   "outputs": [
    {
     "name": "stdout",
     "output_type": "stream",
     "text": [
      "I am Kangaroo located at (0, 0)\n"
     ]
    }
   ],
   "source": [
    "k = Kangaroo(0,0)\n",
    "print(k)"
   ]
  },
  {
   "cell_type": "code",
   "execution_count": 27,
   "id": "ccbb9a8e",
   "metadata": {},
   "outputs": [
    {
     "name": "stdout",
     "output_type": "stream",
     "text": [
      "I am Kangaroo located at (6, 0)\n"
     ]
    }
   ],
   "source": [
    "k.move(1,0)\n",
    "k.move(2,0)\n",
    "k.move(3,0)\n",
    "k.get()\n",
    "print(k)"
   ]
  },
  {
   "cell_type": "markdown",
   "id": "b6fc5cda",
   "metadata": {},
   "source": [
    "# Problem 4"
   ]
  },
  {
   "cell_type": "code",
   "execution_count": 29,
   "id": "08811be2",
   "metadata": {},
   "outputs": [],
   "source": [
    "def collatz(x):\n",
    "    print(x)\n",
    "    if x == 1:\n",
    "        return x\n",
    "    elif((x%2) == 0):   \n",
    "        x = x//2\n",
    "        collatz(x)\n",
    "    else:\n",
    "        x = (3*x)+1\n",
    "        collatz(x)"
   ]
  },
  {
   "cell_type": "code",
   "execution_count": 30,
   "id": "d64f0055",
   "metadata": {},
   "outputs": [
    {
     "name": "stdout",
     "output_type": "stream",
     "text": [
      "10\n",
      "5\n",
      "16\n",
      "8\n",
      "4\n",
      "2\n",
      "1\n"
     ]
    }
   ],
   "source": [
    "collatz(10)"
   ]
  },
  {
   "cell_type": "code",
   "execution_count": 31,
   "id": "926f08e5",
   "metadata": {},
   "outputs": [
    {
     "name": "stdout",
     "output_type": "stream",
     "text": [
      "1\n"
     ]
    },
    {
     "data": {
      "text/plain": [
       "1"
      ]
     },
     "execution_count": 31,
     "metadata": {},
     "output_type": "execute_result"
    }
   ],
   "source": [
    "collatz(1)"
   ]
  },
  {
   "cell_type": "markdown",
   "id": "59383eda",
   "metadata": {},
   "source": [
    "# Problem 5"
   ]
  },
  {
   "cell_type": "code",
   "execution_count": 35,
   "id": "517eb4f6",
   "metadata": {},
   "outputs": [],
   "source": [
    "def binary(n):\n",
    "    if(n > 1):\n",
    "        binary(n//2)\n",
    "    print(n%2,end = '')"
   ]
  },
  {
   "cell_type": "code",
   "execution_count": 36,
   "id": "da4cc3bd",
   "metadata": {},
   "outputs": [
    {
     "name": "stdout",
     "output_type": "stream",
     "text": [
      "1010"
     ]
    }
   ],
   "source": [
    "binary(10)"
   ]
  },
  {
   "cell_type": "code",
   "execution_count": 37,
   "id": "dda2c8df",
   "metadata": {},
   "outputs": [
    {
     "name": "stdout",
     "output_type": "stream",
     "text": [
      "1001"
     ]
    }
   ],
   "source": [
    "binary(9)"
   ]
  },
  {
   "cell_type": "code",
   "execution_count": 38,
   "id": "735dc044",
   "metadata": {},
   "outputs": [
    {
     "name": "stdout",
     "output_type": "stream",
     "text": [
      "101"
     ]
    }
   ],
   "source": [
    "binary(5)"
   ]
  },
  {
   "cell_type": "markdown",
   "id": "638fa7f1",
   "metadata": {},
   "source": [
    "# Problem 6"
   ]
  },
  {
   "cell_type": "code",
   "execution_count": 39,
   "id": "41a1b5c2",
   "metadata": {},
   "outputs": [
    {
     "name": "stdout",
     "output_type": "stream",
     "text": [
      "W3C Mission\n",
      " Principles\n",
      " "
     ]
    }
   ],
   "source": [
    "from html.parser import HTMLParser\n",
    "from bs4 import BeautifulSoup\n",
    "inf = open(\"C:\\\\Users\\\\ramki\\\\Desktop\\\\ps2.html\",\"r\")\n",
    "content = inf.read()\n",
    "inf.close()\n",
    "htmlp = HTMLParser()\n",
    "htmlp.feed(content)\n",
    "Par = BeautifulSoup(content)\n",
    "heading_tags = [\"h1\", \"h2\"]\n",
    "for tags in Par.find_all(heading_tags):\n",
    "    print(tags.text.strip(),end='\\n ')"
   ]
  },
  {
   "cell_type": "markdown",
   "id": "a8ba6e0b",
   "metadata": {},
   "source": [
    "# Problem 7"
   ]
  },
  {
   "cell_type": "code",
   "execution_count": 9,
   "id": "4ede001f",
   "metadata": {},
   "outputs": [],
   "source": [
    "from urllib.request import urlopen\n",
    "from urllib.parse import urljoin\n",
    "from html.parser import HTMLParser\n",
    "class Collector(HTMLParser):\n",
    "\n",
    "    def __init__(self, url):\n",
    "        HTMLParser.__init__(self)\n",
    "        self.url = url\n",
    "        self.links = []\n",
    "    def handle_starttag(self, t, attrs):\n",
    "        if t == 'a':\n",
    "            for attr in attrs:\n",
    "                if attr[0] == 'href':\n",
    "                    absolute = urljoin(self.url, attr[1])\n",
    "                    if absolute[:4] == 'http':\n",
    "                        self.links.append(absolute)                    \n",
    "    def getLinks(self):\n",
    "        return self.links"
   ]
  },
  {
   "cell_type": "code",
   "execution_count": 10,
   "id": "e4540bb9",
   "metadata": {},
   "outputs": [
    {
     "name": "stdout",
     "output_type": "stream",
     "text": [
      "\thttp://reed.cs.depaul.edu/lperkovic/test1.html\n",
      "\t\thttp://reed.cs.depaul.edu/lperkovic/test2.html\n",
      "\t\t\thttp://reed.cs.depaul.edu/lperkovic/test4.html\n",
      "\t\thttp://reed.cs.depaul.edu/lperkovic/test3.html\n",
      "\t\t\thttp://reed.cs.depaul.edu/lperkovic/test4.html\n"
     ]
    }
   ],
   "source": [
    "def web(link,dp,ind):\n",
    "        for indentation in range(ind+1):\n",
    "            print('\\t',end='')\n",
    "        print(link)\n",
    "        content = urlopen(link).read().decode()\n",
    "        collector = Collector(link)\n",
    "        collector.feed(content)\n",
    "        links = collector.getLinks()\n",
    "        for i in range(dp):\n",
    "            try:\n",
    "                web(links[i],dp-1,ind+1)\n",
    "            except:\n",
    "                pass\n",
    "web('http://reed.cs.depaul.edu/lperkovic/test1.html',2,0)"
   ]
  },
  {
   "cell_type": "markdown",
   "id": "54261a23",
   "metadata": {},
   "source": [
    "# Problem 8"
   ]
  },
  {
   "cell_type": "markdown",
   "id": "a586c8f0",
   "metadata": {},
   "source": [
    "Table Creation and Data Insertion in SSMS Refernce from Stack Overflow"
   ]
  },
  {
   "attachments": {
    "dp%20ps%202.png": {
     "image/png": "[encoded data removed]"
    }
   },
   "cell_type": "markdown",
   "id": "74eb3630",
   "metadata": {},
   "source": [
    "![dp%20ps%202.png](attachment:dp%20ps%202.png)"
   ]
  },
  {
   "cell_type": "code",
   "execution_count": 40,
   "id": "064c0111",
   "metadata": {},
   "outputs": [],
   "source": [
    "import pyodbc\n",
    "\n",
    "server = \"(localdb)\\MSSQLLocalDB\"\n",
    "db = \"Data Programming\"\n",
    "trusted_connection = \"yes\"\n",
    "\n",
    "connection=pyodbc.connect('DRIVER={ODBC Driver 17 for SQL Server};SERVER='+server + ';trusted_connection='+trusted_connection + ';DATABASE=' + db )\n",
    "\n",
    "cursor = connection.cursor()\n",
    "cursor.execute(\"SELECT * FROM Temp\")\n",
    "rows = cursor.fetchall()\n",
    "\n",
    "cursor = connection.cursor()\n",
    "cursor.execute(\"SELECT * FROM Temp\")\n",
    "rows = cursor.fetchall()\n"
   ]
  },
  {
   "cell_type": "markdown",
   "id": "ce288609",
   "metadata": {},
   "source": [
    "8.1 #All the temperature data"
   ]
  },
  {
   "cell_type": "code",
   "execution_count": 41,
   "id": "d6d88568",
   "metadata": {},
   "outputs": [
    {
     "name": "stdout",
     "output_type": "stream",
     "text": [
      "Temprature data:\n",
      "24.8\n",
      "28.4\n",
      "27.9\n",
      "27.6\n",
      "4.2\n",
      "8.3\n",
      "15.7\n",
      "10.4\n",
      "13.6\n",
      "20.7\n",
      "27.7\n",
      "22.2\n",
      "\n"
     ]
    }
   ],
   "source": [
    "print('Temprature data:')\n",
    "for row in rows:\n",
    "    print(row[3])\n",
    "print( )"
   ]
  },
  {
   "cell_type": "markdown",
   "id": "078fd640",
   "metadata": {},
   "source": [
    "8.2 #All the cities, but without repetition."
   ]
  },
  {
   "cell_type": "code",
   "execution_count": 44,
   "id": "c43240c7",
   "metadata": {},
   "outputs": [
    {
     "name": "stdout",
     "output_type": "stream",
     "text": [
      "Cities:\n",
      "Cairo\n",
      "London\n",
      "Mumbai\n"
     ]
    }
   ],
   "source": [
    "cursor = connection.cursor()\n",
    "cursor.execute(\"Select Distinct City from Temp\")\n",
    "rows_cities = cursor.fetchall()\n",
    "\n",
    "print('Cities:')\n",
    "for city in rows_cities:\n",
    "    print(city[0])"
   ]
  },
  {
   "cell_type": "markdown",
   "id": "d423cc24",
   "metadata": {},
   "source": [
    "8.3 #All the records for India."
   ]
  },
  {
   "cell_type": "code",
   "execution_count": 46,
   "id": "fe52c81e",
   "metadata": {},
   "outputs": [
    {
     "name": "stdout",
     "output_type": "stream",
     "text": [
      " All records for India\n",
      "('Mumbai', 'India', 'Winter', 24.8, 5.9)\n",
      "('Mumbai', 'India', 'Spring', 28.4, 16.2)\n",
      "('Mumbai', 'India', 'Summer', 27.9, 1549.4)\n",
      "('Mumbai', 'India', 'Fall', 27.6, 346.0)\n"
     ]
    }
   ],
   "source": [
    "cursor = connection.cursor()\n",
    "cursor.execute(\"Select City,Country,Season,Temperature,Rainfall from Temp where Country = 'India'\")\n",
    "rows_India = cursor.fetchall()\n",
    "print(\" All records for India\")\n",
    "for output in rows_India:\n",
    "        print(output[0:])"
   ]
  },
  {
   "cell_type": "markdown",
   "id": "d753016e",
   "metadata": {},
   "source": [
    "8.4 #All the Fall records."
   ]
  },
  {
   "cell_type": "code",
   "execution_count": 47,
   "id": "9273f6a2",
   "metadata": {},
   "outputs": [
    {
     "name": "stdout",
     "output_type": "stream",
     "text": [
      "All the Fall records\n",
      "('Mumbai', 'India', 'Fall', 27.6, 346.0)\n",
      "('London', 'United Kingdom', 'Fall', 10.4, 218.5)\n",
      "('Cairo', 'Egypt', 'Fall', 22.2, 4.5)\n"
     ]
    }
   ],
   "source": [
    "cursor = connection.cursor()\n",
    "cursor.execute(\"Select City,Country,Season,Temperature,Rainfall from Temp where Season = 'Fall'\")\n",
    "fall_season = cursor.fetchall()\n",
    "print(\"All the Fall records\")\n",
    "for fall_records in fall_season:\n",
    "        print(fall_records[0:])"
   ]
  },
  {
   "cell_type": "markdown",
   "id": "96c85471",
   "metadata": {},
   "source": [
    "8.5 #The city, country, and season for which the average rainfall is between 200 and 400 millimeters"
   ]
  },
  {
   "cell_type": "code",
   "execution_count": 49,
   "id": "7ea0f09d",
   "metadata": {},
   "outputs": [
    {
     "name": "stdout",
     "output_type": "stream",
     "text": [
      "city, country, and season -Avg. Rainfall in range of 200mm - 400mm \n",
      "('London', 'United Kingdom', 'Fall', 218.5)\n",
      "('London', 'United Kingdom', 'Winter', 207.7)\n",
      "('Mumbai', 'India', 'Fall', 346.0)\n"
     ]
    }
   ],
   "source": [
    "cursor = connection.cursor()\n",
    "cursor.execute(\"Select City,Country,Season,Avg(Rainfall) from Temp group by City,Country,Season having (Avg(Rainfall))>= 200 and (Avg(Rainfall))<= 400 \")\n",
    "records = cursor.fetchall()\n",
    "print(\"city, country, and season -Avg. Rainfall in range of 200mm - 400mm \")\n",
    "for record in records:\n",
    "        print(record[0:])"
   ]
  },
  {
   "cell_type": "markdown",
   "id": "35514155",
   "metadata": {},
   "source": [
    "8.6 #The city and country for which the average Fall temperature is above 20 degrees, in increasing temperature order."
   ]
  },
  {
   "cell_type": "code",
   "execution_count": 50,
   "id": "f17d2085",
   "metadata": {},
   "outputs": [
    {
     "name": "stdout",
     "output_type": "stream",
     "text": [
      "city, country - Avg. Temp is greater than 20 Degrees \n",
      "('Cairo', 'Egypt', 21.1)\n",
      "('Mumbai', 'India', 27.2)\n"
     ]
    }
   ],
   "source": [
    "cursor = connection.cursor()\n",
    "cursor.execute(\"Select City,Country,round(Avg(Temperature),1) from Temp group by City,Country having Avg(Temperature)>20 order by Avg(Temperature)\")\n",
    "temps = cursor.fetchall()\n",
    "print(\"city, country - Avg. Temp is greater than 20 Degrees \")\n",
    "for temp in temps:\n",
    "        print(temp[0:])"
   ]
  },
  {
   "cell_type": "markdown",
   "id": "484c201a",
   "metadata": {},
   "source": [
    "8.7 #The total annual rainfall for Cairo."
   ]
  },
  {
   "cell_type": "code",
   "execution_count": 51,
   "id": "a28edca6",
   "metadata": {},
   "outputs": [
    {
     "name": "stdout",
     "output_type": "stream",
     "text": [
      "city - Annual Rainfall for Cairo \n",
      "('Cairo', 27.6)\n"
     ]
    }
   ],
   "source": [
    "cursor = connection.cursor()\n",
    "cursor.execute(\"Select City,round(Sum(RainFall),2) from Temp where City = 'Cairo' group by City\")\n",
    "Total_Rainfall = cursor.fetchall()\n",
    "print(\"city - Annual Rainfall for Cairo \")\n",
    "for Rainfall in Total_Rainfall:\n",
    "        print(Rainfall[0:])"
   ]
  },
  {
   "cell_type": "markdown",
   "id": "4d964859",
   "metadata": {},
   "source": [
    "8.8 #The total rainfall for each season."
   ]
  },
  {
   "cell_type": "code",
   "execution_count": 52,
   "id": "eae3b977",
   "metadata": {},
   "outputs": [
    {
     "name": "stdout",
     "output_type": "stream",
     "text": [
      "Season - Total temp \n",
      "('Fall', 60.2)\n",
      "('Spring', 57.4)\n",
      "('Summer', 71.3)\n",
      "('Winter', 42.6)\n"
     ]
    }
   ],
   "source": [
    "cursor = connection.cursor()\n",
    "cursor.execute(\"Select Season,round(Sum(Temperature),2) from Temp group by Season\")\n",
    "Total_Temp = cursor.fetchall()\n",
    "print(\"Season - Total temp \")\n",
    "for Temprature in Total_Temp:\n",
    "        print(Temprature[0:])"
   ]
  },
  {
   "cell_type": "markdown",
   "id": "8e8d3d4b",
   "metadata": {},
   "source": [
    "# Problem 9"
   ]
  },
  {
   "cell_type": "code",
   "execution_count": 53,
   "id": "80faf8da",
   "metadata": {},
   "outputs": [],
   "source": [
    "words = ['The', 'quick', 'brown', 'fox', 'jumps', 'over', 'the', 'lazy', 'dog']"
   ]
  },
  {
   "cell_type": "markdown",
   "id": "15bb5566",
   "metadata": {},
   "source": [
    "9A "
   ]
  },
  {
   "cell_type": "code",
   "execution_count": 54,
   "id": "98007048",
   "metadata": {},
   "outputs": [
    {
     "name": "stdout",
     "output_type": "stream",
     "text": [
      "['THE', 'QUICK', 'BROWN', 'FOX', 'JUMPS', 'OVER', 'THE', 'LAZY', 'DOG']\n",
      " \n"
     ]
    }
   ],
   "source": [
    "upper_word = [each_word.upper() for each_word in (words)] \n",
    "print(upper_word, end = \"\\n \\n\") "
   ]
  },
  {
   "cell_type": "markdown",
   "id": "8d0c552b",
   "metadata": {},
   "source": [
    "9B"
   ]
  },
  {
   "cell_type": "code",
   "execution_count": 55,
   "id": "c172f1ee",
   "metadata": {},
   "outputs": [
    {
     "name": "stdout",
     "output_type": "stream",
     "text": [
      "['the', 'quick', 'brown', 'fox', 'jumps', 'over', 'the', 'lazy', 'dog']\n",
      " \n"
     ]
    }
   ],
   "source": [
    "lower_word = [each_word.lower() for each_word in (words)] \n",
    "print(lower_word, end = \"\\n \\n\") "
   ]
  },
  {
   "cell_type": "markdown",
   "id": "fe5bd65c",
   "metadata": {},
   "source": [
    "9C"
   ]
  },
  {
   "cell_type": "code",
   "execution_count": 56,
   "id": "700dfe8b",
   "metadata": {},
   "outputs": [
    {
     "name": "stdout",
     "output_type": "stream",
     "text": [
      "[3, 5, 5, 3, 5, 4, 3, 4, 3]\n",
      " \n"
     ]
    }
   ],
   "source": [
    "length = [len(words) for words in (words)] \n",
    "print(length, end = \"\\n \\n\")"
   ]
  },
  {
   "cell_type": "markdown",
   "id": "2f41d1f9",
   "metadata": {},
   "source": [
    "9D"
   ]
  },
  {
   "cell_type": "code",
   "execution_count": 57,
   "id": "985aef5e",
   "metadata": {},
   "outputs": [
    {
     "name": "stdout",
     "output_type": "stream",
     "text": [
      "[['THE', 'the', 3], ['QUICK', 'quick', 5], ['BROWN', 'brown', 5], ['FOX', 'fox', 3], ['JUMPS', 'jumps', 5], ['OVER', 'over', 4], ['THE', 'the', 3], ['LAZY', 'lazy', 4], ['DOG', 'dog', 3]]\n",
      " \n"
     ]
    }
   ],
   "source": [
    "word_List = []\n",
    "for i in range(len(words)):\n",
    "    word_List.append([upper_word[i],lower_word[i],length[i]])\n",
    "print(word_List, end = \"\\n \\n\")"
   ]
  },
  {
   "cell_type": "markdown",
   "id": "32f66614",
   "metadata": {},
   "source": [
    "9E"
   ]
  },
  {
   "cell_type": "code",
   "execution_count": 58,
   "id": "c2a657d8",
   "metadata": {},
   "outputs": [
    {
     "name": "stdout",
     "output_type": "stream",
     "text": [
      "['quick', 'brown', 'jumps', 'over', 'lazy']\n"
     ]
    }
   ],
   "source": [
    "word = []\n",
    "for i in range(len(words)):\n",
    "    if len(words[i]) >= 4:\n",
    "        word.append(words[i])\n",
    "print(word)"
   ]
  }
 ],
 "metadata": {
  "kernelspec": {
   "display_name": "Python 3 (ipykernel)",
   "language": "python",
   "name": "python3"
  },
  "language_info": {
   "codemirror_mode": {
    "name": "ipython",
    "version": 3
   },
   "file_extension": ".py",
   "mimetype": "text/x-python",
   "name": "python",
   "nbconvert_exporter": "python",
   "pygments_lexer": "ipython3",
   "version": "3.9.7"
  }
 },
 "nbformat": 4,
 "nbformat_minor": 5
}
